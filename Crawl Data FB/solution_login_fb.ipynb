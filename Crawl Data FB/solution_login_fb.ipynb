{
 "cells": [
  {
   "cell_type": "markdown",
   "metadata": {},
   "source": [
    "Crawl DATA"
   ]
  },
  {
   "cell_type": "code",
   "execution_count": null,
   "metadata": {},
   "outputs": [],
   "source": [
    "# Import các thư viện cần thiết\n",
    "from selenium import webdriver\n",
    "from selenium.webdriver.common.keys import Keys\n",
    "from selenium.webdriver.common.by import By\n",
    "from selenium.webdriver.support.ui import WebDriverWait\n",
    "from selenium.webdriver.support import expected_conditions as EC\n",
    "# from bs4 import BeautifulSoup\n",
    "# import csv\n",
    "# from time import sleep\n",
    "# from selenium.common.exceptions import TimeoutException\n",
    "\n",
    "print('- Finish importing packages')"
   ]
  },
  {
   "cell_type": "code",
   "execution_count": 15,
   "metadata": {},
   "outputs": [],
   "source": [
    "# 1. Khai báo browser\n",
    "browser = webdriver.Chrome()"
   ]
  },
  {
   "cell_type": "code",
   "execution_count": 16,
   "metadata": {},
   "outputs": [],
   "source": [
    "browser.get(r\"http://facebook.com/login\")"
   ]
  },
  {
   "cell_type": "code",
   "execution_count": null,
   "metadata": {},
   "outputs": [],
   "source": [
    "try:\n",
    "    # Đợi cho trường email và mật khẩu xuất hiện và nhập thông tin\n",
    "    email_field = WebDriverWait(browser, 10).until(\n",
    "        EC.presence_of_element_located((By.ID, 'email'))  # ID của trường nhập email trên Facebook\n",
    "    )\n",
    "    password_field = WebDriverWait(browser, 10).until(\n",
    "        EC.presence_of_element_located((By.ID, 'pass'))  # ID của trường nhập mật khẩu trên Facebook\n",
    "    )\n",
    "    \n",
    "    # Đọc thông tin đăng nhập từ tệp văn bản\n",
    "    try:\n",
    "        with open('fblogin.txt', 'r') as credential:\n",
    "            lines = credential.readlines()\n",
    "            username = lines[0].strip()\n",
    "            password = lines[1].strip()\n",
    "    except FileNotFoundError:\n",
    "        print(\"Error: The file 'fblogin.txt' was not found.\")\n",
    "        browser.quit()  # Đóng trình duyệt nếu không tìm thấy file\n",
    "        exit()  # Thoát khỏi script\n",
    "\n",
    "    # Nhập thông tin đăng nhập và nhấp vào nút Đăng nhập\n",
    "    email_field.send_keys(username)\n",
    "    password_field.send_keys(password)\n",
    "    password_field.send_keys(Keys.RETURN)\n",
    "    print('- Finish Task 1: Login to Facebook')\n",
    "\n",
    "except TimeoutException:\n",
    "    print(\"Email or password field not found within the specified timeout period.\")\n",
    "    browser.quit()  # Đóng trình duyệt nếu không tìm thấy các trường nhập liệu"
   ]
  },
  {
   "cell_type": "code",
   "execution_count": null,
   "metadata": {},
   "outputs": [],
   "source": [
    "browser.get(r\"LINK Post DATA\")\n",
    "time.sleep(5)\n",
    "\n",
    "# Crawl posts and save to file\n",
    "try:\n",
    "    with open('posts.txt', 'w', encoding='utf-8') as file:\n",
    "        posts = browser.find_elements_by_xpath('//div[@data-pagelet=\"FeedUnit_0\"]')\n",
    "        for post in posts:\n",
    "            try:\n",
    "                post_content = post.find_element_by_xpath('.//div[@data-testid=\"post_message\"]').text\n",
    "                file.write(post_content + '\\n')\n",
    "            except NoSuchElementException:\n",
    "                print(\"Post content not found\")\n",
    "except NoSuchElementException:\n",
    "    print(\"No posts found\")\n"
   ]
  }
 ],
 "metadata": {
  "kernelspec": {
   "display_name": "Python 3",
   "language": "python",
   "name": "python3"
  },
  "language_info": {
   "codemirror_mode": {
    "name": "ipython",
    "version": 3
   },
   "file_extension": ".py",
   "mimetype": "text/x-python",
   "name": "python",
   "nbconvert_exporter": "python",
   "pygments_lexer": "ipython3",
   "version": "3.9.6"
  }
 },
 "nbformat": 4,
 "nbformat_minor": 2
}
